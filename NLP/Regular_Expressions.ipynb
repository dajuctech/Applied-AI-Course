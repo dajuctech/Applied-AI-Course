{
  "nbformat": 4,
  "nbformat_minor": 0,
  "metadata": {
    "colab": {
      "provenance": [],
      "include_colab_link": true
    },
    "kernelspec": {
      "name": "python3",
      "display_name": "Python 3"
    }
  },
  "cells": [
    {
      "cell_type": "markdown",
      "metadata": {
        "id": "view-in-github",
        "colab_type": "text"
      },
      "source": [
        "<a href=\"https://colab.research.google.com/github/dajuctech/Applied-AI-Course/blob/main/NLP/Regular_Expressions.ipynb\" target=\"_parent\"><img src=\"https://colab.research.google.com/assets/colab-badge.svg\" alt=\"Open In Colab\"/></a>"
      ]
    },
    {
      "cell_type": "markdown",
      "metadata": {
        "id": "TkRDyKYjbTPM"
      },
      "source": [
        "<h1>Regular Expressions</h1>\n",
        "\n",
        "A regular expression is a special sequence of characters that helps you match other strings, using a specialised syntax held in a pattern.\n",
        "\n",
        "*Created by Hansi Hettiarachchi*\n"
      ]
    },
    {
      "cell_type": "markdown",
      "metadata": {
        "id": "0p6Tq5d7cQIp"
      },
      "source": [
        "To use regular expressions in Python you need to import <i>re</i> module.\n",
        "\n",
        "[re — Regular expression operations documentation](https://docs.python.org/3/library/re.html)"
      ]
    },
    {
      "cell_type": "code",
      "metadata": {
        "id": "U_z5SiKhcD1I"
      },
      "source": [
        "import re"
      ],
      "execution_count": 1,
      "outputs": []
    },
    {
      "cell_type": "markdown",
      "metadata": {
        "id": "QERtyUzclSNr"
      },
      "source": [
        "# Functions and descriptions\n",
        "- match - Return a Match object if characters at the beginning of string match the regular expression\n",
        "- fullmatch - Return a Match object if the whole string matches the regular expression\n",
        "- search - Return a Match object corresponding to the first match.\n",
        "- findall - Return a list containing all matches.\n",
        "- sub - Replaces one or more matches with the given string\n",
        "- split - Returns a list where the string has been split at each match"
      ]
    },
    {
      "cell_type": "markdown",
      "source": [
        "## Two Methods"
      ],
      "metadata": {
        "id": "4WBwf_0Xdorv"
      }
    },
    {
      "cell_type": "code",
      "source": [
        "text = \"abc.\""
      ],
      "metadata": {
        "id": "EWDyLlA-fXzO"
      },
      "execution_count": 2,
      "outputs": []
    },
    {
      "cell_type": "code",
      "source": [
        "pattern = \"...\\.\"  # define the pattern of regular expression\n",
        "\n",
        "x = re.match(pattern, text)\n",
        "print(x)"
      ],
      "metadata": {
        "colab": {
          "base_uri": "https://localhost:8080/"
        },
        "id": "K846g870eod5",
        "outputId": "5930aac6-bdd7-474c-8e4c-b2c468b52c70"
      },
      "execution_count": 3,
      "outputs": [
        {
          "output_type": "stream",
          "name": "stdout",
          "text": [
            "<re.Match object; span=(0, 4), match='abc.'>\n"
          ]
        }
      ]
    },
    {
      "cell_type": "markdown",
      "source": [
        "The same example with more efficient code:\n",
        "\n",
        "(If you need to match many text samples with a pattern, then the following code is the best to use.)"
      ],
      "metadata": {
        "id": "hIh_xB_HczvS"
      }
    },
    {
      "cell_type": "code",
      "source": [
        "pattern = \"...\\.\"  # define the pattern of regular expression\n",
        "pat = re.compile(pattern) # compile pattern into regular expression object\n",
        "\n",
        "x = pat.match(text)\n",
        "print(x)"
      ],
      "metadata": {
        "colab": {
          "base_uri": "https://localhost:8080/"
        },
        "id": "6BHhKmLCcRad",
        "outputId": "040ee0a6-bb30-49b8-ece3-f7e91e0c7df7"
      },
      "execution_count": 4,
      "outputs": [
        {
          "output_type": "stream",
          "name": "stdout",
          "text": [
            "<re.Match object; span=(0, 4), match='abc.'>\n"
          ]
        }
      ]
    },
    {
      "cell_type": "markdown",
      "source": [
        "**Note:** Using re.compile() and saving the resulting regular expression object for reuse is more efficient when the expression will be used several times in a single program."
      ],
      "metadata": {
        "id": "zwtopumrdCaZ"
      }
    },
    {
      "cell_type": "markdown",
      "source": [
        "## Examples"
      ],
      "metadata": {
        "id": "Xz3ZiZB6eK_v"
      }
    },
    {
      "cell_type": "markdown",
      "source": [
        "### Simple Pattern"
      ],
      "metadata": {
        "id": "i5ipsNvz7kTR"
      }
    },
    {
      "cell_type": "code",
      "source": [
        "text = \"ab abc.\"\n",
        "\n",
        "pattern = \"...\\.\"  # define the pattern of regular expression\n",
        "pat = re.compile(pattern) # compile pattern into regular expression object\n",
        "\n",
        "x = pat.match(text)\n",
        "print(f'match output: {x}\\n')\n",
        "\n",
        "x = pat.fullmatch(text)\n",
        "print(f'fullmatch output: {x}\\n')\n",
        "\n",
        "x = pat.search(text)\n",
        "print(f'search output: {x}\\n')\n",
        "\n",
        "x = pat.findall(text)\n",
        "print(f'findall output: {x}\\n')\n",
        "\n",
        "x = pat.sub(\"REPLACEMENT\", text) # For sub, we need to input a string as a replacement for the matches in addition to the original text.\n",
        "print(f'sub output: {x}\\n')\n",
        "\n",
        "x = pat.split(text)\n",
        "print(f'split output: {x}\\n')"
      ],
      "metadata": {
        "colab": {
          "base_uri": "https://localhost:8080/"
        },
        "id": "8M3cpoThZZ-e",
        "outputId": "7e2fd9e0-a3d4-46b1-e3ca-81379ff8d177"
      },
      "execution_count": 5,
      "outputs": [
        {
          "output_type": "stream",
          "name": "stdout",
          "text": [
            "match output: None\n",
            "\n",
            "fullmatch output: None\n",
            "\n",
            "search output: <re.Match object; span=(3, 7), match='abc.'>\n",
            "\n",
            "findall output: ['abc.']\n",
            "\n",
            "sub output: ab REPLACEMENT\n",
            "\n",
            "split output: ['ab ', '']\n",
            "\n"
          ]
        }
      ]
    },
    {
      "cell_type": "markdown",
      "source": [
        "### Percentages"
      ],
      "metadata": {
        "id": "u4BIP9x77nU9"
      }
    },
    {
      "cell_type": "code",
      "source": [
        "pattern = \"\\d+\\.?\\d*%\"  # pattern to match percentages (e.g. 8.7%, 2.4%, 20%)\n",
        "pat = re.compile(pattern)"
      ],
      "metadata": {
        "id": "1cwcipS57uUL"
      },
      "execution_count": 6,
      "outputs": []
    },
    {
      "cell_type": "code",
      "source": [
        "text = \"Monthly GDP grew by 8.7% in June 2020 as lockdown measures eased, following upwardly revised growth of 2.4% in May and a record fall of 20% in April 2020.\"\n",
        "\n",
        "x = pat.match(text)\n",
        "print(f'match output: {x}\\n')\n",
        "\n",
        "x = pat.fullmatch(text)\n",
        "print(f'fullmatch output: {x}\\n')\n",
        "\n",
        "x = pat.search(text)\n",
        "print(f'search output: {x}\\n')\n",
        "\n",
        "x = pat.findall(text)\n",
        "print(f'findall output: {x}\\n')\n",
        "\n",
        "x = pat.sub(\"PERCENTAGE\", text) # For sub, we need to input a string as a replacement for the matches in addition to the original text.\n",
        "print(f'sub output: {x}\\n')\n",
        "\n",
        "x = pat.split(text)\n",
        "print(f'split output: {x}\\n')"
      ],
      "metadata": {
        "colab": {
          "base_uri": "https://localhost:8080/"
        },
        "id": "1oarLbfp7Ta_",
        "outputId": "bd5ae4c8-6358-4d7c-ea03-0ed65c5e20db"
      },
      "execution_count": 7,
      "outputs": [
        {
          "output_type": "stream",
          "name": "stdout",
          "text": [
            "match output: None\n",
            "\n",
            "fullmatch output: None\n",
            "\n",
            "search output: <re.Match object; span=(20, 24), match='8.7%'>\n",
            "\n",
            "findall output: ['8.7%', '2.4%', '20%']\n",
            "\n",
            "sub output: Monthly GDP grew by PERCENTAGE in June 2020 as lockdown measures eased, following upwardly revised growth of PERCENTAGE in May and a record fall of PERCENTAGE in April 2020.\n",
            "\n",
            "split output: ['Monthly GDP grew by ', ' in June 2020 as lockdown measures eased, following upwardly revised growth of ', ' in May and a record fall of ', ' in April 2020.']\n",
            "\n"
          ]
        }
      ]
    },
    {
      "cell_type": "markdown",
      "metadata": {
        "id": "d_jClj88TBsh"
      },
      "source": [
        "### <font color='green'>**Exercise 1**</font>\n",
        "\n",
        "Remove links in the following tweets using regular expressions."
      ]
    },
    {
      "cell_type": "code",
      "metadata": {
        "id": "DzRUEZoVTNZ6"
      },
      "source": [
        "tweets = [\"This is a much better tool than some I have come across http://www.tweepular.com\",\n",
        "          \"says Finally, Im home.  http://plurk.com/p/rr121\",\n",
        "          \"http://twitpic.com/66xlm -  hate when my PARKED car gets hit\",\n",
        "          \"I want it BACK NOW!: http://bit.ly/PP1WZ\",\n",
        "          \"https://t.co/OAsMV2N3oZ HALFTIME WATCH\"]"
      ],
      "execution_count": 8,
      "outputs": []
    },
    {
      "cell_type": "code",
      "source": [
        "# Define the pattern to match URLs\n",
        "url_pattern = r\"https?://\\S+\"\n",
        "\n",
        "# Compile the pattern for reuse\n",
        "pat = re.compile(url_pattern)\n",
        "\n",
        "# Loop through tweets and remove links\n",
        "cleaned_tweets = [pat.sub(\"\", tweet) for tweet in tweets]\n",
        "\n",
        "# Print cleaned tweets\n",
        "for tweet in cleaned_tweets:\n",
        "    print(tweet)"
      ],
      "metadata": {
        "colab": {
          "base_uri": "https://localhost:8080/"
        },
        "id": "tQYuY8lWe86w",
        "outputId": "2dbcfb00-c231-472d-d7d3-dfbadc459982"
      },
      "execution_count": 9,
      "outputs": [
        {
          "output_type": "stream",
          "name": "stdout",
          "text": [
            "This is a much better tool than some I have come across \n",
            "says Finally, Im home.  \n",
            " -  hate when my PARKED car gets hit\n",
            "I want it BACK NOW!: \n",
            " HALFTIME WATCH\n"
          ]
        }
      ]
    }
  ]
}